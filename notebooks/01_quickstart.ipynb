{
 "cells": [
  {
   "cell_type": "markdown",
   "id": "bf7c92be",
   "metadata": {},
   "source": [
    "# Quickstart: Daytrading with vectorbt & CoinEx\n",
    "This notebook loads sample OHLCV data, builds EMA/BB signals, runs a backtest, and displays KPIs and equity chart."
   ]
  },
  {
   "cell_type": "code",
   "execution_count": null,
   "id": "225134aa",
   "metadata": {},
   "outputs": [],
   "source": [
    "import pandas as pd\n",
    "import vectorbt as vbt\n",
    "import matplotlib.pyplot as plt"
   ]
  },
  {
   "cell_type": "code",
   "execution_count": null,
   "id": "f1815fa4",
   "metadata": {},
   "outputs": [],
   "source": [
    "# Load sample data (BTC/USDT, 1h)\n",
    "df = pd.read_csv('../data/raw/BTC-USDT_1h.csv', parse_dates=['datetime']).set_index('datetime')\n",
    "close = df['close'].astype(float)"
   ]
  },
  {
   "cell_type": "code",
   "execution_count": null,
   "id": "c5d67285",
   "metadata": {},
   "outputs": [],
   "source": [
    "# Build EMA signals\n",
    "fast = vbt.MA.run(close, window=20).ma\n",
    "slow = vbt.MA.run(close, window=60).ma\n",
    "entries = fast.vbt.crossed_above(slow)\n",
    "exits = fast.vbt.crossed_below(slow)"
   ]
  },
  {
   "cell_type": "code",
   "execution_count": null,
   "id": "b938042b",
   "metadata": {},
   "outputs": [],
   "source": [
    "# Run backtest\n",
    "pf = vbt.Portfolio.from_signals(close, entries, exits, fees=0.001, slippage=0.0002, init_cash=8000, freq='1h')"
   ]
  },
  {
   "cell_type": "code",
   "execution_count": null,
   "id": "dbcfd361",
   "metadata": {},
   "outputs": [],
   "source": [
    "# Show KPIs\n",
    "stats = pf.stats()\n",
    "stats[['Total Return [%]', 'Max Drawdown [%]', 'Sharpe Ratio', 'Win Rate [%]', 'Profit Factor']]"
   ]
  },
  {
   "cell_type": "code",
   "execution_count": null,
   "id": "59e4e0d0",
   "metadata": {},
   "outputs": [],
   "source": [
    "# Plot equity curve\n",
    "pf.value().plot(title='Equity Curve')\n",
    "plt.show()"
   ]
  }
 ],
 "metadata": {
  "language_info": {
   "name": "python"
  }
 },
 "nbformat": 4,
 "nbformat_minor": 5
}
